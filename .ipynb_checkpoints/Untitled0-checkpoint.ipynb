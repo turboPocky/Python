{
 "metadata": {
  "name": "",
  "signature": "sha256:8a2fe950aaf13b1d1f24f750f9324dd04a8652faab72c2ef2a06384ab4edebaa"
 },
 "nbformat": 3,
 "nbformat_minor": 0,
 "worksheets": []
}