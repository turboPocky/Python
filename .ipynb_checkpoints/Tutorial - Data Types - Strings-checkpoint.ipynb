{
 "metadata": {
  "name": "",
  "signature": "sha256:a834b08681a883914809c8288e81e34fb36816edd8631d1ec51830e78bc563be"
 },
 "nbformat": 3,
 "nbformat_minor": 0,
 "worksheets": [
  {
   "cells": [
    {
     "cell_type": "code",
     "collapsed": false,
     "input": [
      "## 1. Write a program that takes a string, \n",
      "#    (1) capitalizes the first letter, \n",
      "#    (2) creates a list containing each word, and\n",
      "#    (3) searches for the last occurrence of \"a\" in the first word.\n",
      "\n",
      "def problem1(str): \n",
      "    print 'problem1'\n",
      "    \n",
      "    capitalized = str.capitalize()\n",
      "    print capitalized\n",
      "    \n",
      "    wordList = str.split()\n",
      "    print wordList\n",
      "    \n",
      "    indexOfA = str.lower().rfind('a')\n",
      "    print indexOfA\n",
      "    return\n",
      "\n",
      "# test\n",
      "problem1('Anaconda makes python fun')"
     ],
     "language": "python",
     "metadata": {},
     "outputs": [
      {
       "output_type": "stream",
       "stream": "stdout",
       "text": [
        "problem1\n",
        "Anaconda makes python fun\n",
        "['Anaconda', 'makes', 'python', 'fun']\n",
        "10\n"
       ]
      }
     ],
     "prompt_number": 34
    },
    {
     "cell_type": "code",
     "collapsed": false,
     "input": [
      "## 2. Run the program on the string \"Bananas are yellow.\"\n",
      "problem1('Bananas are yellow')"
     ],
     "language": "python",
     "metadata": {},
     "outputs": [
      {
       "output_type": "stream",
       "stream": "stdout",
       "text": [
        "problem1\n",
        "Bananas are yellow\n",
        "['Bananas', 'are', 'yellow']\n",
        "8\n"
       ]
      }
     ],
     "prompt_number": 35
    },
    {
     "cell_type": "code",
     "collapsed": false,
     "input": [
      "## 3. Write a program that replaces all instances of \"one\" with \"one (1)\". \n",
      "#    For this exercise capitalization does not matter, so it should treat \"one\", \"One\", and \"oNE\" identically.\n",
      "\n",
      "def problem3(str): \n",
      "    print 'problem3()'\n",
      "    print 'input: '+str\n",
      "    wordList = str.split(); \n",
      "    for i in range(len(wordList)): \n",
      "        if wordList[i].lower() == 'one':\n",
      "            wordList[i] = '1'\n",
      "            \n",
      "    print 'output: '+' '.join(wordList)\n",
      "        \n",
      "problem3('this is a test: zero oNe two three 4')"
     ],
     "language": "python",
     "metadata": {},
     "outputs": [
      {
       "output_type": "stream",
       "stream": "stdout",
       "text": [
        "problem3()\n",
        "input: this is a test: zero oNe two three 4\n",
        "output: this is a test: zero 1 two three 4\n"
       ]
      }
     ],
     "prompt_number": 32
    },
    {
     "cell_type": "code",
     "collapsed": false,
     "input": [
      "## 4. Run the program on the string \"One banana was brown, but one was green.\"\n",
      "\n",
      "problem3('One banana was brown, but one was green.')"
     ],
     "language": "python",
     "metadata": {},
     "outputs": [
      {
       "output_type": "stream",
       "stream": "stdout",
       "text": [
        "problem3()\n",
        "input: One banana was brown, but one was green.\n",
        "output: 1 banana was brown, but 1 was green.\n"
       ]
      }
     ],
     "prompt_number": 36
    }
   ],
   "metadata": {}
  }
 ]
}