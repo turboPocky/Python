{
 "metadata": {
  "name": "",
  "signature": "sha256:9c18fc8f7b1ad854ba6329175b94842dd4aa6821e72dcc88b84e73f0394b6269"
 },
 "nbformat": 3,
 "nbformat_minor": 0,
 "worksheets": [
  {
   "cells": [
    {
     "cell_type": "code",
     "collapsed": false,
     "input": [
      "## 1. Write a program that puts 5, 10, and \"twenty\" into a list. Then remove 10 from the list.\n",
      "\n",
      "def problem1(): \n",
      "    list = [5, 10, 'twenty']\n",
      "    print list \n",
      "    for i in range(0, len(list)): \n",
      "        if list[i] == 10: \n",
      "            del list[i]\n",
      "            break\n",
      "    print list\n",
      "    \n",
      "# test\n",
      "problem1()"
     ],
     "language": "python",
     "metadata": {},
     "outputs": [
      {
       "output_type": "stream",
       "stream": "stdout",
       "text": [
        "[5, 10, 'twenty']\n",
        "[5, 'twenty']\n"
       ]
      }
     ],
     "prompt_number": 6
    },
    {
     "cell_type": "code",
     "collapsed": false,
     "input": [
      "## 2. Write a program that puts 5, 10, and \"twenty\" into a tuple.\n",
      "\n",
      "def problem2(): \n",
      "    list = (5, 10, \"twenty\")\n",
      "    print list\n",
      "    \n",
      "# test\n",
      "problem2()"
     ],
     "language": "python",
     "metadata": {},
     "outputs": [
      {
       "output_type": "stream",
       "stream": "stdout",
       "text": [
        "(5, 10, 'twenty')\n"
       ]
      }
     ],
     "prompt_number": 8
    },
    {
     "cell_type": "code",
     "collapsed": false,
     "input": [
      "## 3. Write a program that puts 5, 10, and \"twenty\" into a set. \n",
      "#  Put \"twenty\", 10, and 5 into another set purposefully in a different order. \n",
      "#  Print both of them out and notice the ordering\n",
      "\n",
      "def problem3(): \n",
      "    firstSet = set([5, 10, 'twenty'])\n",
      "    secondSet = set(['twenty', 10, 5])\n",
      "    print firstSet\n",
      "    print secondSet\n",
      "    \n",
      "#test\n",
      "problem3()"
     ],
     "language": "python",
     "metadata": {},
     "outputs": [
      {
       "output_type": "stream",
       "stream": "stdout",
       "text": [
        "set(['twenty', 10, 5])\n",
        "set(['twenty', 10, 5])\n"
       ]
      }
     ],
     "prompt_number": 11
    },
    {
     "cell_type": "code",
     "collapsed": false,
     "input": [
      "# 4. Write a program that constructs a tuple, one element of which is a frozenset.\n",
      "\n",
      "def problem4(): \n",
      "    friends = frozenset(['bob', 'bill', 'sally'])\n",
      "    daysAndFriends = set(['sunday', 'monday', 'tuesday', friends])\n",
      "    print daysAndFriends\n",
      "    \n",
      "#test\n",
      "problem4()"
     ],
     "language": "python",
     "metadata": {},
     "outputs": [
      {
       "output_type": "stream",
       "stream": "stdout",
       "text": [
        "set(['sunday', 'tuesday', 'monday', frozenset(['bob', 'bill', 'sally'])])\n"
       ]
      }
     ],
     "prompt_number": 12
    },
    {
     "cell_type": "code",
     "collapsed": false,
     "input": [
      "# 5. Write a program that creates a dictionary mapping 1 to \"Monday,\" 2 to \"Tuesday,\" etc.\n",
      "\n",
      "def problem5():\n",
      "    days = { 1: 'Monday', 2: 'Tuesday', 3: 'Wednesday', 4: 'Thursday', 5: 'Friday', 6: 'Saturday', 7: 'Sunday' }\n",
      "    print days\n",
      "    print 'day 5 = '+days[5]\n",
      "    \n",
      "problem5()"
     ],
     "language": "python",
     "metadata": {},
     "outputs": [
      {
       "output_type": "stream",
       "stream": "stdout",
       "text": [
        "{1: 'Monday', 2: 'Tuesday', 3: 'Wednesday', 4: 'Thursday', 5: 'Friday', 6: 'Saturday', 7: 'Sunday'}\n",
        "day 5 = Friday\n"
       ]
      }
     ],
     "prompt_number": 18
    }
   ],
   "metadata": {}
  }
 ]
}