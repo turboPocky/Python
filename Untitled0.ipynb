{
 "metadata": {
  "name": "",
  "signature": "sha256:b8d91bd170e4dd9321794b523ef227a0fb3bd5459f5c03d213f1bb9075cb516a"
 },
 "nbformat": 3,
 "nbformat_minor": 0,
 "worksheets": [
  {
   "cells": [
    {
     "cell_type": "code",
     "collapsed": false,
     "input": [
      "changing = 3\n",
      "print (changing)\n",
      "\n",
      "changing = 9\n",
      "print (changing)\n",
      "different = 12\n",
      "\n",
      "print (different)\n",
      "print (changing)\n",
      "\n",
      "changing = 15\n",
      "print (changing)\n"
     ],
     "language": "python",
     "metadata": {},
     "outputs": [
      {
       "output_type": "stream",
       "stream": "stdout",
       "text": [
        "3\n",
        "9\n",
        "12\n",
        "9\n",
        "15\n"
       ]
      }
     ],
     "prompt_number": 2
    },
    {
     "cell_type": "code",
     "collapsed": false,
     "input": [
      "\"Hello, world!\"[3:9]"
     ],
     "language": "python",
     "metadata": {},
     "outputs": [
      {
       "metadata": {},
       "output_type": "pyout",
       "prompt_number": 3,
       "text": [
        "'lo, wo'"
       ]
      }
     ],
     "prompt_number": 3
    },
    {
     "cell_type": "code",
     "collapsed": false,
     "input": [
      "spam = [\"bacon\", \"eggs\", 42]\n",
      "spam[1:2]"
     ],
     "language": "python",
     "metadata": {},
     "outputs": [
      {
       "metadata": {},
       "output_type": "pyout",
       "prompt_number": 16,
       "text": [
        "['eggs']"
       ]
      }
     ],
     "prompt_number": 16
    },
    {
     "cell_type": "code",
     "collapsed": false,
     "input": [
      " var = (\"me\", \"you\", \"us\", \"them\")"
     ],
     "language": "python",
     "metadata": {},
     "outputs": [],
     "prompt_number": 6
    },
    {
     "cell_type": "code",
     "collapsed": false,
     "input": [
      "var\n"
     ],
     "language": "python",
     "metadata": {},
     "outputs": [
      {
       "metadata": {},
       "output_type": "pyout",
       "prompt_number": 7,
       "text": [
        "('me', 'you', 'us', 'them')"
       ]
      }
     ],
     "prompt_number": 7
    },
    {
     "cell_type": "code",
     "collapsed": false,
     "input": [
      "d={1:'one',2:'two',3:'three'}\n",
      "def search(d,v):\n",
      "    for i in d:\n",
      "        if d[i]==v:\n",
      "            return(i)\n",
      "    return('the value not found')\n",
      "v1=input('enter a value to be recorded')\n",
      "print(search(d,v1))"
     ],
     "language": "python",
     "metadata": {},
     "outputs": [
      {
       "name": "stdout",
       "output_type": "stream",
       "stream": "stdout",
       "text": [
        "enter a value to be recorded'two'\n"
       ]
      },
      {
       "output_type": "stream",
       "stream": "stdout",
       "text": [
        "2\n"
       ]
      }
     ],
     "prompt_number": 11
    }
   ],
   "metadata": {}
  }
 ]
}